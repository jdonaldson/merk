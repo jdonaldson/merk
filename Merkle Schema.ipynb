{
 "cells": [
  {
   "cell_type": "code",
   "execution_count": 323,
   "metadata": {},
   "outputs": [],
   "source": [
    "import java.security.MessageDigest\n",
    "import kotlin.text.Charsets.UTF_8\n",
    "\n",
    "fun md5(str: String): ByteArray = MessageDigest.getInstance(\"MD5\").digest(str.toByteArray(UTF_8))\n",
    "fun ByteArray.toHex() = joinToString(\"\") { \"%02x\".format(it) }\n",
    "\n",
    "\n",
    "fun <T:Any> hash(x: KClass<T>) : Any {\n",
    "    \n",
    "    val name = x.simpleName.toString()\n",
    "    var current  = StringBuilder().append(\"CLASSNAME: $name\\n\")\n",
    "    \n",
    "    val members = x.members.associate { \n",
    "        m -> run {\n",
    "            val member_sig = \"\\t${m.name}: ${m.returnType.toString()}\\n\"\n",
    "            current.append(member_sig.toString())           \n",
    "            Pair(m.name, Pair(md5(member_sig).toHex(), m.returnType))\n",
    "        }\n",
    "    }    \n",
    "    println(current)\n",
    "    return Pair(name, Pair(md5(current.toString()).toHex(), members))\n",
    "}"
   ]
  },
  {
   "cell_type": "code",
   "execution_count": 324,
   "metadata": {},
   "outputs": [
    {
     "name": "stdout",
     "output_type": "stream",
     "text": [
      "CLASSNAME: FooClass\n",
      "\tenabled: kotlin.Boolean\n",
      "\tname: kotlin.String\n",
      "\tequals: kotlin.Boolean\n",
      "\thashCode: kotlin.Int\n",
      "\ttoString: kotlin.String\n",
      "\n"
     ]
    },
    {
     "data": {
      "text/plain": [
       "(FooClass, (d5c09008f4b16cbf07b2efcf0289adf6, {enabled=(7d69195e09d8a31b2e67f6b4f48ae53c, kotlin.Boolean), name=(9724cda8c8f5331c89ddb85a99f48354, kotlin.String), equals=(7d69195e09d8a31b2e67f6b4f48ae53c, kotlin.Boolean), hashCode=(b14182ddc42aace100a3d0214fdc40e1, kotlin.Int), toString=(9724cda8c8f5331c89ddb85a99f48354, kotlin.String)}))"
      ]
     },
     "execution_count": 324,
     "metadata": {
      "new_classpath": []
     },
     "output_type": "execute_result"
    }
   ],
   "source": [
    "class FooClass(val name: String, var enabled: Boolean)\n",
    "hash(FooClass::class)"
   ]
  },
  {
   "cell_type": "code",
   "execution_count": 325,
   "metadata": {},
   "outputs": [
    {
     "name": "stdout",
     "output_type": "stream",
     "text": [
      "CLASSNAME: FooClass\n",
      "\tbing: kotlin.String\n",
      "\tenabled: kotlin.Boolean\n",
      "\tname: kotlin.String\n",
      "\tequals: kotlin.Boolean\n",
      "\thashCode: kotlin.Int\n",
      "\ttoString: kotlin.String\n",
      "\n"
     ]
    },
    {
     "data": {
      "text/plain": [
       "(FooClass, (7523e1b19860038333a1ff1fdb9edf14, {bing=(9724cda8c8f5331c89ddb85a99f48354, kotlin.String), enabled=(7d69195e09d8a31b2e67f6b4f48ae53c, kotlin.Boolean), name=(9724cda8c8f5331c89ddb85a99f48354, kotlin.String), equals=(7d69195e09d8a31b2e67f6b4f48ae53c, kotlin.Boolean), hashCode=(b14182ddc42aace100a3d0214fdc40e1, kotlin.Int), toString=(9724cda8c8f5331c89ddb85a99f48354, kotlin.String)}))"
      ]
     },
     "execution_count": 325,
     "metadata": {
      "new_classpath": []
     },
     "output_type": "execute_result"
    }
   ],
   "source": [
    "class FooClass(val name: String, var enabled: Boolean, var bing: String)\n",
    "hash(FooClass::class)"
   ]
  },
  {
   "cell_type": "code",
   "execution_count": 326,
   "metadata": {},
   "outputs": [
    {
     "name": "stdout",
     "output_type": "stream",
     "text": [
      "CLASSNAME: BarClass\n",
      "\tboo: kotlin.Boolean\n",
      "\tenabled: kotlin.Boolean\n",
      "\tname: kotlin.String\n",
      "\tequals: kotlin.Boolean\n",
      "\thashCode: kotlin.Int\n",
      "\ttoString: kotlin.String\n",
      "\n"
     ]
    },
    {
     "data": {
      "text/plain": [
       "(BarClass, (6d5c17d93333e3e9a6fa32882854d2d4, {boo=(7d69195e09d8a31b2e67f6b4f48ae53c, kotlin.Boolean), enabled=(7d69195e09d8a31b2e67f6b4f48ae53c, kotlin.Boolean), name=(9724cda8c8f5331c89ddb85a99f48354, kotlin.String), equals=(7d69195e09d8a31b2e67f6b4f48ae53c, kotlin.Boolean), hashCode=(b14182ddc42aace100a3d0214fdc40e1, kotlin.Int), toString=(9724cda8c8f5331c89ddb85a99f48354, kotlin.String)}))"
      ]
     },
     "execution_count": 326,
     "metadata": {
      "new_classpath": []
     },
     "output_type": "execute_result"
    }
   ],
   "source": [
    "class BarClass(val name: String, var enabled: Boolean, var boo : Boolean)\n",
    "hash(BarClass::class)"
   ]
  },
  {
   "cell_type": "code",
   "execution_count": null,
   "metadata": {},
   "outputs": [],
   "source": []
  },
  {
   "cell_type": "code",
   "execution_count": null,
   "metadata": {},
   "outputs": [],
   "source": []
  },
  {
   "cell_type": "code",
   "execution_count": null,
   "metadata": {},
   "outputs": [],
   "source": []
  }
 ],
 "metadata": {
  "kernelspec": {
   "display_name": "Kotlin",
   "language": "kotlin",
   "name": "kotlin"
  },
  "language_info": {
   "codemirror_mode": "text/x-kotlin",
   "file_extension": ".kt",
   "mimetype": "text/x-kotlin",
   "name": "kotlin",
   "pygments_lexer": "kotlin",
   "version": "1.4.30-dev-2223"
  }
 },
 "nbformat": 4,
 "nbformat_minor": 4
}
