{
 "cells": [
  {
   "cell_type": "code",
   "execution_count": 5,
   "metadata": {},
   "outputs": [],
   "source": []
  },
  {
   "cell_type": "code",
   "execution_count": 12,
   "metadata": {},
   "outputs": [],
   "source": [
    "import java.security.MessageDigest\n",
    "import kotlin.text.Charsets.UTF_8\n",
    "import kotlin.reflect.KClass\n",
    "import kotlin.reflect.full.memberProperties\n",
    "\n",
    "fun md5(str: String): ByteArray = MessageDigest.getInstance(\"MD5\").digest(str.toByteArray(UTF_8))\n",
    "fun ByteArray.toHex() = joinToString(\"\") { \"%02x\".format(it) }\n",
    "\n",
    "\n",
    "fun <T:Any> hash(x: KClass<T>) : Any {\n",
    "\n",
    "    val name = x.simpleName.toString()\n",
    "    var current  = StringBuilder().append(\"CLASSNAME: $name\\n\")\n",
    "    \n",
    "    val members = x.memberProperties.associate { \n",
    "        m -> run {\n",
    "            val member_sig = \"\\t${m.name}: ${m.returnType.toString()}\\n\"\n",
    "            current.append(member_sig.toString())           \n",
    "            Pair(m.name, Pair(md5(member_sig).toHex(), m.returnType))\n",
    "        }\n",
    "    }    \n",
    "    println(current)\n",
    "    return Pair(name, Pair(md5(current.toString()).toHex(), members))\n",
    "}"
   ]
  },
  {
   "cell_type": "code",
   "execution_count": 13,
   "metadata": {},
   "outputs": [
    {
     "name": "stdout",
     "output_type": "stream",
     "text": [
      "CLASSNAME: FooClass\n",
      "\tenabled: kotlin.Boolean\n",
      "\tname: kotlin.String\n",
      "\n"
     ]
    },
    {
     "data": {
      "text/plain": [
       "(FooClass, (ba4f81e0cef6d917b6ee5740f7577e47, {enabled=(3a908a0c26b268ab658b751f4449211d, kotlin.Boolean), name=(2e85ed0051328c3b0da9270978c1b3c6, kotlin.String)}))"
      ]
     },
     "execution_count": 13,
     "metadata": {
      "new_classpath": []
     },
     "output_type": "execute_result"
    }
   ],
   "source": [
    "class FooClass(val name: String, var enabled: Boolean)\n",
    "hash(FooClass::class)"
   ]
  },
  {
   "cell_type": "code",
   "execution_count": 14,
   "metadata": {},
   "outputs": [
    {
     "name": "stdout",
     "output_type": "stream",
     "text": [
      "CLASSNAME: FooClass\n",
      "\tbing: kotlin.String\n",
      "\tenabled: kotlin.Boolean\n",
      "\tname: kotlin.String\n",
      "\n"
     ]
    },
    {
     "data": {
      "text/plain": [
       "(FooClass, (ab0688e95773cc5851cd722fac75a468, {bing=(4bb76c4d0ac721567fee46b8e150013f, kotlin.String), enabled=(3a908a0c26b268ab658b751f4449211d, kotlin.Boolean), name=(2e85ed0051328c3b0da9270978c1b3c6, kotlin.String)}))"
      ]
     },
     "execution_count": 14,
     "metadata": {
      "new_classpath": []
     },
     "output_type": "execute_result"
    }
   ],
   "source": [
    "class FooClass(val name: String, var enabled: Boolean, var bing: String)\n",
    "hash(FooClass::class)"
   ]
  },
  {
   "cell_type": "code",
   "execution_count": 15,
   "metadata": {},
   "outputs": [
    {
     "name": "stdout",
     "output_type": "stream",
     "text": [
      "CLASSNAME: BarClass\n",
      "\tboo: kotlin.Boolean\n",
      "\tenabled: kotlin.Boolean\n",
      "\tname: kotlin.String\n",
      "\n"
     ]
    },
    {
     "data": {
      "text/plain": [
       "(BarClass, (72c5c9489815bf085d904556c118c83a, {boo=(842329cd0d4b9a258174e4aab37fcd21, kotlin.Boolean), enabled=(3a908a0c26b268ab658b751f4449211d, kotlin.Boolean), name=(2e85ed0051328c3b0da9270978c1b3c6, kotlin.String)}))"
      ]
     },
     "execution_count": 15,
     "metadata": {
      "new_classpath": []
     },
     "output_type": "execute_result"
    }
   ],
   "source": [
    "class BarClass(val name: String, var enabled: Boolean, var boo : Boolean)\n",
    "hash(BarClass::class)"
   ]
  },
  {
   "cell_type": "code",
   "execution_count": null,
   "metadata": {},
   "outputs": [],
   "source": []
  },
  {
   "cell_type": "code",
   "execution_count": null,
   "metadata": {},
   "outputs": [],
   "source": []
  },
  {
   "cell_type": "code",
   "execution_count": null,
   "metadata": {},
   "outputs": [],
   "source": []
  }
 ],
 "metadata": {
  "kernelspec": {
   "display_name": "Kotlin",
   "language": "kotlin",
   "name": "kotlin"
  },
  "language_info": {
   "codemirror_mode": "text/x-kotlin",
   "file_extension": ".kt",
   "mimetype": "text/x-kotlin",
   "name": "kotlin",
   "pygments_lexer": "kotlin",
   "version": "1.4.30-dev-2223"
  }
 },
 "nbformat": 4,
 "nbformat_minor": 4
}
