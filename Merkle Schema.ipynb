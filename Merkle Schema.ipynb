{
 "cells": [
  {
   "cell_type": "code",
   "execution_count": 233,
   "metadata": {},
   "outputs": [],
   "source": [
    "\n",
    "import java.security.MessageDigest\n",
    "import kotlin.text.Charsets.UTF_8\n",
    "\n",
    "fun md5(str: String): ByteArray = MessageDigest.getInstance(\"MD5\").digest(str.toByteArray(UTF_8))\n",
    "fun ByteArray.toHex() = joinToString(\"\") { \"%02x\".format(it) }\n",
    "\n",
    "\n",
    "fun <T:Any> hash(x: KClass<T>) : ByteArray {\n",
    "    var current = md5(x.simpleName.toString())\n",
    "    for (member in x.members) {\n",
    "        val member_sig =  md5(member.name + \":\" + member.returnType.toString())\n",
    "        current.onEachIndexed { index, value -> value.toInt().xor(member_sig[index].toInt())}\n",
    "    }\n",
    "    return current\n",
    "}"
   ]
  },
  {
   "cell_type": "code",
   "execution_count": 234,
   "metadata": {},
   "outputs": [
    {
     "data": {
      "text/plain": [
       "903d588a9d8f581bdd07a747d7a05c81"
      ]
     },
     "execution_count": 234,
     "metadata": {
      "new_classpath": []
     },
     "output_type": "execute_result"
    }
   ],
   "source": [
    "class FooClass(val name: String, var enabled: Boolean)\n",
    "hash(FooClass::class).toHex()"
   ]
  },
  {
   "cell_type": "code",
   "execution_count": 235,
   "metadata": {},
   "outputs": [
    {
     "data": {
      "text/plain": [
       "903d588a9d8f581bdd07a747d7a05c81"
      ]
     },
     "execution_count": 235,
     "metadata": {
      "new_classpath": []
     },
     "output_type": "execute_result"
    }
   ],
   "source": [
    "class FooClass(val name: String, var enabled: Boolean)\n",
    "hash(FooClass::class).toHex()"
   ]
  },
  {
   "cell_type": "code",
   "execution_count": 236,
   "metadata": {},
   "outputs": [
    {
     "data": {
      "text/plain": [
       "22df54b720a713b029d841aa5c8ae744"
      ]
     },
     "execution_count": 236,
     "metadata": {
      "new_classpath": []
     },
     "output_type": "execute_result"
    }
   ],
   "source": [
    "class BarClass(val name: String, var enabled: Boolean, var boo : Boolean)\n",
    "hash(BarClass::class).toHex()"
   ]
  },
  {
   "cell_type": "code",
   "execution_count": null,
   "metadata": {},
   "outputs": [],
   "source": []
  }
 ],
 "metadata": {
  "kernelspec": {
   "display_name": "Kotlin",
   "language": "kotlin",
   "name": "kotlin"
  },
  "language_info": {
   "codemirror_mode": "text/x-kotlin",
   "file_extension": ".kt",
   "mimetype": "text/x-kotlin",
   "name": "kotlin",
   "pygments_lexer": "kotlin",
   "version": "1.4.30-dev-2223"
  }
 },
 "nbformat": 4,
 "nbformat_minor": 4
}
