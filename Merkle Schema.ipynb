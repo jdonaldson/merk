{
 "cells": [
  {
   "cell_type": "code",
   "execution_count": 30,
   "metadata": {},
   "outputs": [],
   "source": [
    "import java.security.MessageDigest\n",
    "import kotlin.text.Charsets.UTF_8\n",
    "import kotlin.reflect.KClass\n",
    "import kotlin.reflect.KType\n",
    "import kotlin.reflect.full.memberProperties\n",
    "\n",
    "\n",
    "fun md5(str: String): ByteArray = MessageDigest.getInstance(\"MD5\").digest(str.toByteArray(UTF_8))\n",
    "fun ByteArray.toHex() = joinToString(\"\") { \"%02x\".format(it) }\n",
    "\n",
    "typealias MerkleClass = Map<String, Map<String, Map<String, Map<String, KType>>>>\n",
    "    \n",
    "fun <T:Any> hash(x: KClass<T>) : MerkleClass {\n",
    "\n",
    "    val name = x.simpleName.toString()\n",
    "    var current  = StringBuilder().append(\"CLASSNAME: $name\\n\")\n",
    "    \n",
    "    val members = x.memberProperties.associate { \n",
    "        m -> run {\n",
    "            val member_sig = \"\\t${m.name}: ${m.returnType.toString()}\\n\"\n",
    "            current.append(member_sig.toString())           \n",
    "            Pair(m.name, mapOf(md5(member_sig).toHex() to m.returnType))\n",
    "        }\n",
    "    }    \n",
    "    println(current)\n",
    "    return mapOf(name to mapOf(md5(current.toString()).toHex() to members))\n",
    "}"
   ]
  },
  {
   "cell_type": "code",
   "execution_count": 31,
   "metadata": {},
   "outputs": [
    {
     "name": "stdout",
     "output_type": "stream",
     "text": [
      "CLASSNAME: FooClass\n",
      "\tenabled: kotlin.Boolean\n",
      "\tname: kotlin.String\n",
      "\n"
     ]
    },
    {
     "data": {
      "text/plain": [
       "{FooClass={ba4f81e0cef6d917b6ee5740f7577e47={enabled={3a908a0c26b268ab658b751f4449211d=kotlin.Boolean}, name={2e85ed0051328c3b0da9270978c1b3c6=kotlin.String}}}}"
      ]
     },
     "execution_count": 31,
     "metadata": {
      "new_classpath": []
     },
     "output_type": "execute_result"
    }
   ],
   "source": [
    "class FooClass(val name: String, var enabled: Boolean)\n",
    "val ref1 = hash(FooClass::class)\n",
    "ref1\n"
   ]
  },
  {
   "cell_type": "code",
   "execution_count": 36,
   "metadata": {},
   "outputs": [
    {
     "name": "stdout",
     "output_type": "stream",
     "text": [
      "CLASSNAME: FooClass\n",
      "\tbing: kotlin.String\n",
      "\tenabled: kotlin.Boolean\n",
      "\tname: kotlin.String\n",
      "\n"
     ]
    },
    {
     "data": {
      "text/plain": [
       "{FooClass={ab0688e95773cc5851cd722fac75a468={bing={4bb76c4d0ac721567fee46b8e150013f=kotlin.String}, enabled={3a908a0c26b268ab658b751f4449211d=kotlin.Boolean}, name={2e85ed0051328c3b0da9270978c1b3c6=kotlin.String}}}}"
      ]
     },
     "execution_count": 36,
     "metadata": {
      "new_classpath": []
     },
     "output_type": "execute_result"
    }
   ],
   "source": [
    "class FooClass(val name: String, var enabled: Boolean, var bing: String)\n",
    "val ref2 = hash(FooClass::class)\n",
    "ref2"
   ]
  },
  {
   "cell_type": "code",
   "execution_count": 21,
   "metadata": {},
   "outputs": [
    {
     "data": {
      "text/plain": [
       "true"
      ]
     },
     "execution_count": 21,
     "metadata": {
      "new_classpath": []
     },
     "output_type": "execute_result"
    }
   ],
   "source": [
    "ref1 != ref2"
   ]
  },
  {
   "cell_type": "code",
   "execution_count": 89,
   "metadata": {},
   "outputs": [],
   "source": [
    "fun merge(c1:MerkleClass, c2:MerkleClass) : MerkleClass {\n",
    "    return (c1.asSequence() + c2.asSequence())\n",
    "        .distinct()\n",
    "        .groupBy( {it.key}, {it.value})\n",
    "        .mapValues { (_, values)-> values.associateBy({it.keys.first()},{it.values.first()})}       \n",
    "}"
   ]
  },
  {
   "cell_type": "code",
   "execution_count": 90,
   "metadata": {},
   "outputs": [
    {
     "data": {
      "text/plain": [
       "{FooClass={ba4f81e0cef6d917b6ee5740f7577e47={enabled={3a908a0c26b268ab658b751f4449211d=kotlin.Boolean}, name={2e85ed0051328c3b0da9270978c1b3c6=kotlin.String}}, ab0688e95773cc5851cd722fac75a468={bing={4bb76c4d0ac721567fee46b8e150013f=kotlin.String}, enabled={3a908a0c26b268ab658b751f4449211d=kotlin.Boolean}, name={2e85ed0051328c3b0da9270978c1b3c6=kotlin.String}}}}"
      ]
     },
     "execution_count": 90,
     "metadata": {
      "new_classpath": []
     },
     "output_type": "execute_result"
    }
   ],
   "source": [
    "merge(ref1,ref2)"
   ]
  }
 ],
 "metadata": {
  "kernelspec": {
   "display_name": "Kotlin",
   "language": "kotlin",
   "name": "kotlin"
  },
  "language_info": {
   "codemirror_mode": "text/x-kotlin",
   "file_extension": ".kt",
   "mimetype": "text/x-kotlin",
   "name": "kotlin",
   "pygments_lexer": "kotlin",
   "version": "1.4.30-dev-2223"
  }
 },
 "nbformat": 4,
 "nbformat_minor": 4
}
