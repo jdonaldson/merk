{
 "cells": [
  {
   "cell_type": "code",
   "execution_count": 270,
   "metadata": {},
   "outputs": [],
   "source": [
    "\n",
    "import java.security.MessageDigest\n",
    "import kotlin.text.Charsets.UTF_8\n",
    "\n",
    "fun md5(str: String): ByteArray = MessageDigest.getInstance(\"MD5\").digest(str.toByteArray(UTF_8))\n",
    "fun ByteArray.toHex() = joinToString(\"\") { \"%02x\".format(it) }\n",
    "\n",
    "\n",
    "fun <T:Any> hash(x: KClass<T>) : Any {\n",
    "    \n",
    "    val name = x.simpleName.toString()\n",
    "    var current : ByteArray = md5(name)\n",
    "    val members = x.members.associate { \n",
    "        m -> run {\n",
    "            val member_sig = md5(m.name + \":\" + m.returnType.toString())\n",
    "            current.forEachIndexed { idx, value -> value.toInt().xor(member_sig[idx].toInt())}\n",
    "            Pair(m.name, Pair(md5(m.returnType.toString()).toHex(), m.returnType))\n",
    "        }\n",
    "    }    \n",
    "    \n",
    "\n",
    "    return Pair(name, Pair(current.toHex(), members))\n",
    "}"
   ]
  },
  {
   "cell_type": "code",
   "execution_count": 271,
   "metadata": {},
   "outputs": [
    {
     "data": {
      "text/plain": [
       "(FooClass, (903d588a9d8f581bdd07a747d7a05c81, {enabled=(7d69195e09d8a31b2e67f6b4f48ae53c, kotlin.Boolean), name=(9724cda8c8f5331c89ddb85a99f48354, kotlin.String), equals=(7d69195e09d8a31b2e67f6b4f48ae53c, kotlin.Boolean), hashCode=(b14182ddc42aace100a3d0214fdc40e1, kotlin.Int), toString=(9724cda8c8f5331c89ddb85a99f48354, kotlin.String)}))"
      ]
     },
     "execution_count": 271,
     "metadata": {
      "new_classpath": []
     },
     "output_type": "execute_result"
    }
   ],
   "source": [
    "class FooClass(val name: String, var enabled: Boolean)\n",
    "hash(FooClass::class)"
   ]
  },
  {
   "cell_type": "code",
   "execution_count": 273,
   "metadata": {},
   "outputs": [
    {
     "data": {
      "text/plain": [
       "(FooClass, (903d588a9d8f581bdd07a747d7a05c81, {enabled=(7d69195e09d8a31b2e67f6b4f48ae53c, kotlin.Boolean), name=(9724cda8c8f5331c89ddb85a99f48354, kotlin.String), equals=(7d69195e09d8a31b2e67f6b4f48ae53c, kotlin.Boolean), hashCode=(b14182ddc42aace100a3d0214fdc40e1, kotlin.Int), toString=(9724cda8c8f5331c89ddb85a99f48354, kotlin.String)}))"
      ]
     },
     "execution_count": 273,
     "metadata": {
      "new_classpath": []
     },
     "output_type": "execute_result"
    }
   ],
   "source": [
    "class FooClass(val name: String, var enabled: Boolean)\n",
    "hash(FooClass::class)"
   ]
  },
  {
   "cell_type": "code",
   "execution_count": 275,
   "metadata": {},
   "outputs": [
    {
     "data": {
      "text/plain": [
       "(BarClass, (22df54b720a713b029d841aa5c8ae744, {boo=(7d69195e09d8a31b2e67f6b4f48ae53c, kotlin.Boolean), enabled=(7d69195e09d8a31b2e67f6b4f48ae53c, kotlin.Boolean), name=(9724cda8c8f5331c89ddb85a99f48354, kotlin.String), equals=(7d69195e09d8a31b2e67f6b4f48ae53c, kotlin.Boolean), hashCode=(b14182ddc42aace100a3d0214fdc40e1, kotlin.Int), toString=(9724cda8c8f5331c89ddb85a99f48354, kotlin.String)}))"
      ]
     },
     "execution_count": 275,
     "metadata": {
      "new_classpath": []
     },
     "output_type": "execute_result"
    }
   ],
   "source": [
    "class BarClass(val name: String, var enabled: Boolean, var boo : Boolean)\n",
    "hash(BarClass::class)"
   ]
  }
 ],
 "metadata": {
  "kernelspec": {
   "display_name": "Kotlin",
   "language": "kotlin",
   "name": "kotlin"
  },
  "language_info": {
   "codemirror_mode": "text/x-kotlin",
   "file_extension": ".kt",
   "mimetype": "text/x-kotlin",
   "name": "kotlin",
   "pygments_lexer": "kotlin",
   "version": "1.4.30-dev-2223"
  }
 },
 "nbformat": 4,
 "nbformat_minor": 4
}
