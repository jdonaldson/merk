{
 "cells": [
  {
   "cell_type": "code",
   "execution_count": 312,
   "metadata": {},
   "outputs": [],
   "source": [
    "import java.security.MessageDigest\n",
    "import kotlin.text.Charsets.UTF_8\n",
    "\n",
    "fun md5(str: String): ByteArray = MessageDigest.getInstance(\"MD5\").digest(str.toByteArray(UTF_8))\n",
    "fun ByteArray.toHex() = joinToString(\"\") { \"%02x\".format(it) }\n",
    "\n",
    "\n",
    "fun <T:Any> hash(x: KClass<T>) : Any {\n",
    "    \n",
    "    val name = x.simpleName.toString()\n",
    "    var current  = StringBuilder().append(\"CLASSNAME: $name\\n\")\n",
    "    \n",
    "    val members = x.members.associate { \n",
    "        m -> run {\n",
    "            val member_sig = \"${m.name}: ${m.returnType.toString()}\\n\"\n",
    "            current.append(member_sig.toString())           \n",
    "            Pair(m.name, Pair(md5(m.returnType.toString()).toHex(), m.returnType))\n",
    "        }\n",
    "    }    \n",
    "    println(current)\n",
    "    return Pair(name, Pair(md5(current.toString()).toHex(), members))\n",
    "}"
   ]
  },
  {
   "cell_type": "code",
   "execution_count": 313,
   "metadata": {},
   "outputs": [
    {
     "name": "stdout",
     "output_type": "stream",
     "text": [
      "CLASSNAME : FooClass\n",
      "enabled: kotlin.Boolean\n",
      "name: kotlin.String\n",
      "equals: kotlin.Boolean\n",
      "hashCode: kotlin.Int\n",
      "toString: kotlin.String\n",
      "\n"
     ]
    },
    {
     "data": {
      "text/plain": [
       "(FooClass, (48012d3a892b8887028a88055e23ef15, {enabled=(7d69195e09d8a31b2e67f6b4f48ae53c, kotlin.Boolean), name=(9724cda8c8f5331c89ddb85a99f48354, kotlin.String), equals=(7d69195e09d8a31b2e67f6b4f48ae53c, kotlin.Boolean), hashCode=(b14182ddc42aace100a3d0214fdc40e1, kotlin.Int), toString=(9724cda8c8f5331c89ddb85a99f48354, kotlin.String)}))"
      ]
     },
     "execution_count": 313,
     "metadata": {
      "new_classpath": []
     },
     "output_type": "execute_result"
    }
   ],
   "source": [
    "class FooClass(val name: String, var enabled: Boolean)\n",
    "hash(FooClass::class)"
   ]
  },
  {
   "cell_type": "code",
   "execution_count": null,
   "metadata": {},
   "outputs": [],
   "source": [
    "class FooClass(val name: String, var enabled: Boolean, var bing: String)\n",
    "hash(FooClass::class)"
   ]
  },
  {
   "cell_type": "code",
   "execution_count": null,
   "metadata": {},
   "outputs": [],
   "source": [
    "class BarClass(val name: String, var enabled: Boolean, var boo : Boolean)\n",
    "hash(BarClass::class)"
   ]
  },
  {
   "cell_type": "code",
   "execution_count": null,
   "metadata": {},
   "outputs": [],
   "source": []
  }
 ],
 "metadata": {
  "kernelspec": {
   "display_name": "Kotlin",
   "language": "kotlin",
   "name": "kotlin"
  },
  "language_info": {
   "codemirror_mode": "text/x-kotlin",
   "file_extension": ".kt",
   "mimetype": "text/x-kotlin",
   "name": "kotlin",
   "pygments_lexer": "kotlin",
   "version": "1.4.30-dev-2223"
  }
 },
 "nbformat": 4,
 "nbformat_minor": 4
}
